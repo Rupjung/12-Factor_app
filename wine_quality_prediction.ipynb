{
  "cells": [
    {
      "cell_type": "code",
      "execution_count": 33,
      "id": "b5504549",
      "metadata": {},
      "outputs": [],
      "source": [
        "# Import necessary libraries\n",
        "import numpy as np\n",
        "import pandas as pd\n",
        "import matplotlib.pyplot as plt\n",
        "import seaborn as sns\n",
        "from sklearn.model_selection import train_test_split, GridSearchCV, cross_val_score\n",
        "from sklearn.preprocessing import StandardScaler\n",
        "from sklearn.linear_model import LogisticRegression\n",
        "from sklearn.ensemble import RandomForestClassifier, GradientBoostingClassifier\n",
        "from sklearn.metrics import classification_report, accuracy_score\n",
        "from pathlib import Path\n",
        "\n",
        "import warnings\n",
        "warnings.filterwarnings('ignore')\n",
        "\n",
        "# Set the aesthetic style of the plots\n",
        "sns.set_style('whitegrid')\n",
        "plt.style.use('seaborn-v0_8-whitegrid')\n",
        "\n",
        "# For reproducibility\n",
        "np.random.seed(42)"
      ]
    },
    {
      "cell_type": "code",
      "execution_count": 34,
      "id": "eaf031d3",
      "metadata": {},
      "outputs": [
        {
          "name": "stdout",
          "output_type": "stream",
          "text": [
            "Dataset shape: (1143, 13)\n"
          ]
        },
        {
          "data": {
            "text/html": [
              "<div>\n",
              "<style scoped>\n",
              "    .dataframe tbody tr th:only-of-type {\n",
              "        vertical-align: middle;\n",
              "    }\n",
              "\n",
              "    .dataframe tbody tr th {\n",
              "        vertical-align: top;\n",
              "    }\n",
              "\n",
              "    .dataframe thead th {\n",
              "        text-align: right;\n",
              "    }\n",
              "</style>\n",
              "<table border=\"1\" class=\"dataframe\">\n",
              "  <thead>\n",
              "    <tr style=\"text-align: right;\">\n",
              "      <th></th>\n",
              "      <th>fixed acidity</th>\n",
              "      <th>volatile acidity</th>\n",
              "      <th>citric acid</th>\n",
              "      <th>residual sugar</th>\n",
              "      <th>chlorides</th>\n",
              "      <th>free sulfur dioxide</th>\n",
              "      <th>total sulfur dioxide</th>\n",
              "      <th>density</th>\n",
              "      <th>pH</th>\n",
              "      <th>sulphates</th>\n",
              "      <th>alcohol</th>\n",
              "      <th>quality</th>\n",
              "      <th>Id</th>\n",
              "    </tr>\n",
              "  </thead>\n",
              "  <tbody>\n",
              "    <tr>\n",
              "      <th>0</th>\n",
              "      <td>7.4</td>\n",
              "      <td>0.70</td>\n",
              "      <td>0.00</td>\n",
              "      <td>1.9</td>\n",
              "      <td>0.076</td>\n",
              "      <td>11.0</td>\n",
              "      <td>34.0</td>\n",
              "      <td>0.9978</td>\n",
              "      <td>3.51</td>\n",
              "      <td>0.56</td>\n",
              "      <td>9.4</td>\n",
              "      <td>5</td>\n",
              "      <td>0</td>\n",
              "    </tr>\n",
              "    <tr>\n",
              "      <th>1</th>\n",
              "      <td>7.8</td>\n",
              "      <td>0.88</td>\n",
              "      <td>0.00</td>\n",
              "      <td>2.6</td>\n",
              "      <td>0.098</td>\n",
              "      <td>25.0</td>\n",
              "      <td>67.0</td>\n",
              "      <td>0.9968</td>\n",
              "      <td>3.20</td>\n",
              "      <td>0.68</td>\n",
              "      <td>9.8</td>\n",
              "      <td>5</td>\n",
              "      <td>1</td>\n",
              "    </tr>\n",
              "    <tr>\n",
              "      <th>2</th>\n",
              "      <td>7.8</td>\n",
              "      <td>0.76</td>\n",
              "      <td>0.04</td>\n",
              "      <td>2.3</td>\n",
              "      <td>0.092</td>\n",
              "      <td>15.0</td>\n",
              "      <td>54.0</td>\n",
              "      <td>0.9970</td>\n",
              "      <td>3.26</td>\n",
              "      <td>0.65</td>\n",
              "      <td>9.8</td>\n",
              "      <td>5</td>\n",
              "      <td>2</td>\n",
              "    </tr>\n",
              "    <tr>\n",
              "      <th>3</th>\n",
              "      <td>11.2</td>\n",
              "      <td>0.28</td>\n",
              "      <td>0.56</td>\n",
              "      <td>1.9</td>\n",
              "      <td>0.075</td>\n",
              "      <td>17.0</td>\n",
              "      <td>60.0</td>\n",
              "      <td>0.9980</td>\n",
              "      <td>3.16</td>\n",
              "      <td>0.58</td>\n",
              "      <td>9.8</td>\n",
              "      <td>6</td>\n",
              "      <td>3</td>\n",
              "    </tr>\n",
              "    <tr>\n",
              "      <th>4</th>\n",
              "      <td>7.4</td>\n",
              "      <td>0.70</td>\n",
              "      <td>0.00</td>\n",
              "      <td>1.9</td>\n",
              "      <td>0.076</td>\n",
              "      <td>11.0</td>\n",
              "      <td>34.0</td>\n",
              "      <td>0.9978</td>\n",
              "      <td>3.51</td>\n",
              "      <td>0.56</td>\n",
              "      <td>9.4</td>\n",
              "      <td>5</td>\n",
              "      <td>4</td>\n",
              "    </tr>\n",
              "  </tbody>\n",
              "</table>\n",
              "</div>"
            ],
            "text/plain": [
              "   fixed acidity  volatile acidity  citric acid  residual sugar  chlorides  \\\n",
              "0            7.4              0.70         0.00             1.9      0.076   \n",
              "1            7.8              0.88         0.00             2.6      0.098   \n",
              "2            7.8              0.76         0.04             2.3      0.092   \n",
              "3           11.2              0.28         0.56             1.9      0.075   \n",
              "4            7.4              0.70         0.00             1.9      0.076   \n",
              "\n",
              "   free sulfur dioxide  total sulfur dioxide  density    pH  sulphates  \\\n",
              "0                 11.0                  34.0   0.9978  3.51       0.56   \n",
              "1                 25.0                  67.0   0.9968  3.20       0.68   \n",
              "2                 15.0                  54.0   0.9970  3.26       0.65   \n",
              "3                 17.0                  60.0   0.9980  3.16       0.58   \n",
              "4                 11.0                  34.0   0.9978  3.51       0.56   \n",
              "\n",
              "   alcohol  quality  Id  \n",
              "0      9.4        5   0  \n",
              "1      9.8        5   1  \n",
              "2      9.8        5   2  \n",
              "3      9.8        6   3  \n",
              "4      9.4        5   4  "
            ]
          },
          "execution_count": 34,
          "metadata": {},
          "output_type": "execute_result"
        }
      ],
      "source": [
        "df = pd.read_csv('data/WineQT.csv')\n",
        "\n",
        "print(\"Dataset shape:\", df.shape)\n",
        "df.head()"
      ]
    },
    {
      "cell_type": "code",
      "execution_count": 35,
      "id": "28bb6114",
      "metadata": {},
      "outputs": [
        {
          "name": "stdout",
          "output_type": "stream",
          "text": [
            "\n",
            "Missing values per column:\n",
            "fixed acidity           0\n",
            "volatile acidity        0\n",
            "citric acid             0\n",
            "residual sugar          0\n",
            "chlorides               0\n",
            "free sulfur dioxide     0\n",
            "total sulfur dioxide    0\n",
            "density                 0\n",
            "pH                      0\n",
            "sulphates               0\n",
            "alcohol                 0\n",
            "quality                 0\n",
            "Id                      0\n",
            "dtype: int64\n"
          ]
        }
      ],
      "source": [
        "print(\"\\nMissing values per column:\")\n",
        "print(df.isnull().sum())"
      ]
    },
    {
      "cell_type": "code",
      "execution_count": 36,
      "id": "b85347d0",
      "metadata": {},
      "outputs": [
        {
          "name": "stdout",
          "output_type": "stream",
          "text": [
            "\n",
            "Statistics Summary:\n"
          ]
        },
        {
          "data": {
            "text/html": [
              "<div>\n",
              "<style scoped>\n",
              "    .dataframe tbody tr th:only-of-type {\n",
              "        vertical-align: middle;\n",
              "    }\n",
              "\n",
              "    .dataframe tbody tr th {\n",
              "        vertical-align: top;\n",
              "    }\n",
              "\n",
              "    .dataframe thead th {\n",
              "        text-align: right;\n",
              "    }\n",
              "</style>\n",
              "<table border=\"1\" class=\"dataframe\">\n",
              "  <thead>\n",
              "    <tr style=\"text-align: right;\">\n",
              "      <th></th>\n",
              "      <th>fixed acidity</th>\n",
              "      <th>volatile acidity</th>\n",
              "      <th>citric acid</th>\n",
              "      <th>residual sugar</th>\n",
              "      <th>chlorides</th>\n",
              "      <th>free sulfur dioxide</th>\n",
              "      <th>total sulfur dioxide</th>\n",
              "      <th>density</th>\n",
              "      <th>pH</th>\n",
              "      <th>sulphates</th>\n",
              "      <th>alcohol</th>\n",
              "      <th>quality</th>\n",
              "      <th>Id</th>\n",
              "    </tr>\n",
              "  </thead>\n",
              "  <tbody>\n",
              "    <tr>\n",
              "      <th>count</th>\n",
              "      <td>1143.000000</td>\n",
              "      <td>1143.000000</td>\n",
              "      <td>1143.000000</td>\n",
              "      <td>1143.000000</td>\n",
              "      <td>1143.000000</td>\n",
              "      <td>1143.000000</td>\n",
              "      <td>1143.000000</td>\n",
              "      <td>1143.000000</td>\n",
              "      <td>1143.000000</td>\n",
              "      <td>1143.000000</td>\n",
              "      <td>1143.000000</td>\n",
              "      <td>1143.000000</td>\n",
              "      <td>1143.000000</td>\n",
              "    </tr>\n",
              "    <tr>\n",
              "      <th>mean</th>\n",
              "      <td>8.311111</td>\n",
              "      <td>0.531339</td>\n",
              "      <td>0.268364</td>\n",
              "      <td>2.532152</td>\n",
              "      <td>0.086933</td>\n",
              "      <td>15.615486</td>\n",
              "      <td>45.914698</td>\n",
              "      <td>0.996730</td>\n",
              "      <td>3.311015</td>\n",
              "      <td>0.657708</td>\n",
              "      <td>10.442111</td>\n",
              "      <td>5.657043</td>\n",
              "      <td>804.969379</td>\n",
              "    </tr>\n",
              "    <tr>\n",
              "      <th>std</th>\n",
              "      <td>1.747595</td>\n",
              "      <td>0.179633</td>\n",
              "      <td>0.196686</td>\n",
              "      <td>1.355917</td>\n",
              "      <td>0.047267</td>\n",
              "      <td>10.250486</td>\n",
              "      <td>32.782130</td>\n",
              "      <td>0.001925</td>\n",
              "      <td>0.156664</td>\n",
              "      <td>0.170399</td>\n",
              "      <td>1.082196</td>\n",
              "      <td>0.805824</td>\n",
              "      <td>463.997116</td>\n",
              "    </tr>\n",
              "    <tr>\n",
              "      <th>min</th>\n",
              "      <td>4.600000</td>\n",
              "      <td>0.120000</td>\n",
              "      <td>0.000000</td>\n",
              "      <td>0.900000</td>\n",
              "      <td>0.012000</td>\n",
              "      <td>1.000000</td>\n",
              "      <td>6.000000</td>\n",
              "      <td>0.990070</td>\n",
              "      <td>2.740000</td>\n",
              "      <td>0.330000</td>\n",
              "      <td>8.400000</td>\n",
              "      <td>3.000000</td>\n",
              "      <td>0.000000</td>\n",
              "    </tr>\n",
              "    <tr>\n",
              "      <th>25%</th>\n",
              "      <td>7.100000</td>\n",
              "      <td>0.392500</td>\n",
              "      <td>0.090000</td>\n",
              "      <td>1.900000</td>\n",
              "      <td>0.070000</td>\n",
              "      <td>7.000000</td>\n",
              "      <td>21.000000</td>\n",
              "      <td>0.995570</td>\n",
              "      <td>3.205000</td>\n",
              "      <td>0.550000</td>\n",
              "      <td>9.500000</td>\n",
              "      <td>5.000000</td>\n",
              "      <td>411.000000</td>\n",
              "    </tr>\n",
              "    <tr>\n",
              "      <th>50%</th>\n",
              "      <td>7.900000</td>\n",
              "      <td>0.520000</td>\n",
              "      <td>0.250000</td>\n",
              "      <td>2.200000</td>\n",
              "      <td>0.079000</td>\n",
              "      <td>13.000000</td>\n",
              "      <td>37.000000</td>\n",
              "      <td>0.996680</td>\n",
              "      <td>3.310000</td>\n",
              "      <td>0.620000</td>\n",
              "      <td>10.200000</td>\n",
              "      <td>6.000000</td>\n",
              "      <td>794.000000</td>\n",
              "    </tr>\n",
              "    <tr>\n",
              "      <th>75%</th>\n",
              "      <td>9.100000</td>\n",
              "      <td>0.640000</td>\n",
              "      <td>0.420000</td>\n",
              "      <td>2.600000</td>\n",
              "      <td>0.090000</td>\n",
              "      <td>21.000000</td>\n",
              "      <td>61.000000</td>\n",
              "      <td>0.997845</td>\n",
              "      <td>3.400000</td>\n",
              "      <td>0.730000</td>\n",
              "      <td>11.100000</td>\n",
              "      <td>6.000000</td>\n",
              "      <td>1209.500000</td>\n",
              "    </tr>\n",
              "    <tr>\n",
              "      <th>max</th>\n",
              "      <td>15.900000</td>\n",
              "      <td>1.580000</td>\n",
              "      <td>1.000000</td>\n",
              "      <td>15.500000</td>\n",
              "      <td>0.611000</td>\n",
              "      <td>68.000000</td>\n",
              "      <td>289.000000</td>\n",
              "      <td>1.003690</td>\n",
              "      <td>4.010000</td>\n",
              "      <td>2.000000</td>\n",
              "      <td>14.900000</td>\n",
              "      <td>8.000000</td>\n",
              "      <td>1597.000000</td>\n",
              "    </tr>\n",
              "  </tbody>\n",
              "</table>\n",
              "</div>"
            ],
            "text/plain": [
              "       fixed acidity  volatile acidity  citric acid  residual sugar  \\\n",
              "count    1143.000000       1143.000000  1143.000000     1143.000000   \n",
              "mean        8.311111          0.531339     0.268364        2.532152   \n",
              "std         1.747595          0.179633     0.196686        1.355917   \n",
              "min         4.600000          0.120000     0.000000        0.900000   \n",
              "25%         7.100000          0.392500     0.090000        1.900000   \n",
              "50%         7.900000          0.520000     0.250000        2.200000   \n",
              "75%         9.100000          0.640000     0.420000        2.600000   \n",
              "max        15.900000          1.580000     1.000000       15.500000   \n",
              "\n",
              "         chlorides  free sulfur dioxide  total sulfur dioxide      density  \\\n",
              "count  1143.000000          1143.000000           1143.000000  1143.000000   \n",
              "mean      0.086933            15.615486             45.914698     0.996730   \n",
              "std       0.047267            10.250486             32.782130     0.001925   \n",
              "min       0.012000             1.000000              6.000000     0.990070   \n",
              "25%       0.070000             7.000000             21.000000     0.995570   \n",
              "50%       0.079000            13.000000             37.000000     0.996680   \n",
              "75%       0.090000            21.000000             61.000000     0.997845   \n",
              "max       0.611000            68.000000            289.000000     1.003690   \n",
              "\n",
              "                pH    sulphates      alcohol      quality           Id  \n",
              "count  1143.000000  1143.000000  1143.000000  1143.000000  1143.000000  \n",
              "mean      3.311015     0.657708    10.442111     5.657043   804.969379  \n",
              "std       0.156664     0.170399     1.082196     0.805824   463.997116  \n",
              "min       2.740000     0.330000     8.400000     3.000000     0.000000  \n",
              "25%       3.205000     0.550000     9.500000     5.000000   411.000000  \n",
              "50%       3.310000     0.620000    10.200000     6.000000   794.000000  \n",
              "75%       3.400000     0.730000    11.100000     6.000000  1209.500000  \n",
              "max       4.010000     2.000000    14.900000     8.000000  1597.000000  "
            ]
          },
          "execution_count": 36,
          "metadata": {},
          "output_type": "execute_result"
        }
      ],
      "source": [
        "print(\"\\nStatistics Summary:\")\n",
        "df.describe()"
      ]
    },
    {
      "cell_type": "code",
      "execution_count": 37,
      "id": "15582c5e",
      "metadata": {},
      "outputs": [
        {
          "data": {
            "image/png": "[encoded data removed]",
            "text/plain": [
              "<Figure size 1000x600 with 1 Axes>"
            ]
          },
          "metadata": {},
          "output_type": "display_data"
        }
      ],
      "source": [
        "plt.figure(figsize=(10, 6))\n",
        "sns.countplot(x='quality', data=df, palette='viridis')\n",
        "plt.title('Distribution of Wine Quality', fontsize=16)\n",
        "plt.xlabel('Quality Score', fontsize=14)\n",
        "plt.ylabel('Count', fontsize=14)\n",
        "plt.xticks(fontsize=12)\n",
        "plt.yticks(fontsize=12)\n",
        "plt.grid(True, alpha=0.3)\n",
        "plt.show()"
      ]
    },
    {
      "cell_type": "code",
      "execution_count": 38,
      "id": "30c7cce5",
      "metadata": {},
      "outputs": [
        {
          "data": {
            "text/html": [
              "<div>\n",
              "<style scoped>\n",
              "    .dataframe tbody tr th:only-of-type {\n",
              "        vertical-align: middle;\n",
              "    }\n",
              "\n",
              "    .dataframe tbody tr th {\n",
              "        vertical-align: top;\n",
              "    }\n",
              "\n",
              "    .dataframe thead th {\n",
              "        text-align: right;\n",
              "    }\n",
              "</style>\n",
              "<table border=\"1\" class=\"dataframe\">\n",
              "  <thead>\n",
              "    <tr style=\"text-align: right;\">\n",
              "      <th></th>\n",
              "      <th>fixed acidity</th>\n",
              "      <th>volatile acidity</th>\n",
              "      <th>citric acid</th>\n",
              "      <th>residual sugar</th>\n",
              "      <th>chlorides</th>\n",
              "      <th>free sulfur dioxide</th>\n",
              "      <th>total sulfur dioxide</th>\n",
              "      <th>density</th>\n",
              "      <th>pH</th>\n",
              "      <th>sulphates</th>\n",
              "      <th>alcohol</th>\n",
              "      <th>quality</th>\n",
              "      <th>Id</th>\n",
              "    </tr>\n",
              "  </thead>\n",
              "  <tbody>\n",
              "    <tr>\n",
              "      <th>fixed acidity</th>\n",
              "      <td>1.000000</td>\n",
              "      <td>-0.250728</td>\n",
              "      <td>0.673157</td>\n",
              "      <td>0.171831</td>\n",
              "      <td>0.107889</td>\n",
              "      <td>-0.164831</td>\n",
              "      <td>-0.110628</td>\n",
              "      <td>0.681501</td>\n",
              "      <td>-0.685163</td>\n",
              "      <td>0.174592</td>\n",
              "      <td>-0.075055</td>\n",
              "      <td>0.121970</td>\n",
              "      <td>-0.275826</td>\n",
              "    </tr>\n",
              "    <tr>\n",
              "      <th>volatile acidity</th>\n",
              "      <td>-0.250728</td>\n",
              "      <td>1.000000</td>\n",
              "      <td>-0.544187</td>\n",
              "      <td>-0.005751</td>\n",
              "      <td>0.056336</td>\n",
              "      <td>-0.001962</td>\n",
              "      <td>0.077748</td>\n",
              "      <td>0.016512</td>\n",
              "      <td>0.221492</td>\n",
              "      <td>-0.276079</td>\n",
              "      <td>-0.203909</td>\n",
              "      <td>-0.407394</td>\n",
              "      <td>-0.007892</td>\n",
              "    </tr>\n",
              "    <tr>\n",
              "      <th>citric acid</th>\n",
              "      <td>0.673157</td>\n",
              "      <td>-0.544187</td>\n",
              "      <td>1.000000</td>\n",
              "      <td>0.175815</td>\n",
              "      <td>0.245312</td>\n",
              "      <td>-0.057589</td>\n",
              "      <td>0.036871</td>\n",
              "      <td>0.375243</td>\n",
              "      <td>-0.546339</td>\n",
              "      <td>0.331232</td>\n",
              "      <td>0.106250</td>\n",
              "      <td>0.240821</td>\n",
              "      <td>-0.139011</td>\n",
              "    </tr>\n",
              "    <tr>\n",
              "      <th>residual sugar</th>\n",
              "      <td>0.171831</td>\n",
              "      <td>-0.005751</td>\n",
              "      <td>0.175815</td>\n",
              "      <td>1.000000</td>\n",
              "      <td>0.070863</td>\n",
              "      <td>0.165339</td>\n",
              "      <td>0.190790</td>\n",
              "      <td>0.380147</td>\n",
              "      <td>-0.116959</td>\n",
              "      <td>0.017475</td>\n",
              "      <td>0.058421</td>\n",
              "      <td>0.022002</td>\n",
              "      <td>-0.046344</td>\n",
              "    </tr>\n",
              "    <tr>\n",
              "      <th>chlorides</th>\n",
              "      <td>0.107889</td>\n",
              "      <td>0.056336</td>\n",
              "      <td>0.245312</td>\n",
              "      <td>0.070863</td>\n",
              "      <td>1.000000</td>\n",
              "      <td>0.015280</td>\n",
              "      <td>0.048163</td>\n",
              "      <td>0.208901</td>\n",
              "      <td>-0.277759</td>\n",
              "      <td>0.374784</td>\n",
              "      <td>-0.229917</td>\n",
              "      <td>-0.124085</td>\n",
              "      <td>-0.088099</td>\n",
              "    </tr>\n",
              "    <tr>\n",
              "      <th>free sulfur dioxide</th>\n",
              "      <td>-0.164831</td>\n",
              "      <td>-0.001962</td>\n",
              "      <td>-0.057589</td>\n",
              "      <td>0.165339</td>\n",
              "      <td>0.015280</td>\n",
              "      <td>1.000000</td>\n",
              "      <td>0.661093</td>\n",
              "      <td>-0.054150</td>\n",
              "      <td>0.072804</td>\n",
              "      <td>0.034445</td>\n",
              "      <td>-0.047095</td>\n",
              "      <td>-0.063260</td>\n",
              "      <td>0.095268</td>\n",
              "    </tr>\n",
              "    <tr>\n",
              "      <th>total sulfur dioxide</th>\n",
              "      <td>-0.110628</td>\n",
              "      <td>0.077748</td>\n",
              "      <td>0.036871</td>\n",
              "      <td>0.190790</td>\n",
              "      <td>0.048163</td>\n",
              "      <td>0.661093</td>\n",
              "      <td>1.000000</td>\n",
              "      <td>0.050175</td>\n",
              "      <td>-0.059126</td>\n",
              "      <td>0.026894</td>\n",
              "      <td>-0.188165</td>\n",
              "      <td>-0.183339</td>\n",
              "      <td>-0.107389</td>\n",
              "    </tr>\n",
              "    <tr>\n",
              "      <th>density</th>\n",
              "      <td>0.681501</td>\n",
              "      <td>0.016512</td>\n",
              "      <td>0.375243</td>\n",
              "      <td>0.380147</td>\n",
              "      <td>0.208901</td>\n",
              "      <td>-0.054150</td>\n",
              "      <td>0.050175</td>\n",
              "      <td>1.000000</td>\n",
              "      <td>-0.352775</td>\n",
              "      <td>0.143139</td>\n",
              "      <td>-0.494727</td>\n",
              "      <td>-0.175208</td>\n",
              "      <td>-0.363926</td>\n",
              "    </tr>\n",
              "    <tr>\n",
              "      <th>pH</th>\n",
              "      <td>-0.685163</td>\n",
              "      <td>0.221492</td>\n",
              "      <td>-0.546339</td>\n",
              "      <td>-0.116959</td>\n",
              "      <td>-0.277759</td>\n",
              "      <td>0.072804</td>\n",
              "      <td>-0.059126</td>\n",
              "      <td>-0.352775</td>\n",
              "      <td>1.000000</td>\n",
              "      <td>-0.185499</td>\n",
              "      <td>0.225322</td>\n",
              "      <td>-0.052453</td>\n",
              "      <td>0.132904</td>\n",
              "    </tr>\n",
              "    <tr>\n",
              "      <th>sulphates</th>\n",
              "      <td>0.174592</td>\n",
              "      <td>-0.276079</td>\n",
              "      <td>0.331232</td>\n",
              "      <td>0.017475</td>\n",
              "      <td>0.374784</td>\n",
              "      <td>0.034445</td>\n",
              "      <td>0.026894</td>\n",
              "      <td>0.143139</td>\n",
              "      <td>-0.185499</td>\n",
              "      <td>1.000000</td>\n",
              "      <td>0.094421</td>\n",
              "      <td>0.257710</td>\n",
              "      <td>-0.103954</td>\n",
              "    </tr>\n",
              "    <tr>\n",
              "      <th>alcohol</th>\n",
              "      <td>-0.075055</td>\n",
              "      <td>-0.203909</td>\n",
              "      <td>0.106250</td>\n",
              "      <td>0.058421</td>\n",
              "      <td>-0.229917</td>\n",
              "      <td>-0.047095</td>\n",
              "      <td>-0.188165</td>\n",
              "      <td>-0.494727</td>\n",
              "      <td>0.225322</td>\n",
              "      <td>0.094421</td>\n",
              "      <td>1.000000</td>\n",
              "      <td>0.484866</td>\n",
              "      <td>0.238087</td>\n",
              "    </tr>\n",
              "    <tr>\n",
              "      <th>quality</th>\n",
              "      <td>0.121970</td>\n",
              "      <td>-0.407394</td>\n",
              "      <td>0.240821</td>\n",
              "      <td>0.022002</td>\n",
              "      <td>-0.124085</td>\n",
              "      <td>-0.063260</td>\n",
              "      <td>-0.183339</td>\n",
              "      <td>-0.175208</td>\n",
              "      <td>-0.052453</td>\n",
              "      <td>0.257710</td>\n",
              "      <td>0.484866</td>\n",
              "      <td>1.000000</td>\n",
              "      <td>0.069708</td>\n",
              "    </tr>\n",
              "    <tr>\n",
              "      <th>Id</th>\n",
              "      <td>-0.275826</td>\n",
              "      <td>-0.007892</td>\n",
              "      <td>-0.139011</td>\n",
              "      <td>-0.046344</td>\n",
              "      <td>-0.088099</td>\n",
              "      <td>0.095268</td>\n",
              "      <td>-0.107389</td>\n",
              "      <td>-0.363926</td>\n",
              "      <td>0.132904</td>\n",
              "      <td>-0.103954</td>\n",
              "      <td>0.238087</td>\n",
              "      <td>0.069708</td>\n",
              "      <td>1.000000</td>\n",
              "    </tr>\n",
              "  </tbody>\n",
              "</table>\n",
              "</div>"
            ],
            "text/plain": [
              "                      fixed acidity  volatile acidity  citric acid  \\\n",
              "fixed acidity              1.000000         -0.250728     0.673157   \n",
              "volatile acidity          -0.250728          1.000000    -0.544187   \n",
              "citric acid                0.673157         -0.544187     1.000000   \n",
              "residual sugar             0.171831         -0.005751     0.175815   \n",
              "chlorides                  0.107889          0.056336     0.245312   \n",
              "free sulfur dioxide       -0.164831         -0.001962    -0.057589   \n",
              "total sulfur dioxide      -0.110628          0.077748     0.036871   \n",
              "density                    0.681501          0.016512     0.375243   \n",
              "pH                        -0.685163          0.221492    -0.546339   \n",
              "sulphates                  0.174592         -0.276079     0.331232   \n",
              "alcohol                   -0.075055         -0.203909     0.106250   \n",
              "quality                    0.121970         -0.407394     0.240821   \n",
              "Id                        -0.275826         -0.007892    -0.139011   \n",
              "\n",
              "                      residual sugar  chlorides  free sulfur dioxide  \\\n",
              "fixed acidity               0.171831   0.107889            -0.164831   \n",
              "volatile acidity           -0.005751   0.056336            -0.001962   \n",
              "citric acid                 0.175815   0.245312            -0.057589   \n",
              "residual sugar              1.000000   0.070863             0.165339   \n",
              "chlorides                   0.070863   1.000000             0.015280   \n",
              "free sulfur dioxide         0.165339   0.015280             1.000000   \n",
              "total sulfur dioxide        0.190790   0.048163             0.661093   \n",
              "density                     0.380147   0.208901            -0.054150   \n",
              "pH                         -0.116959  -0.277759             0.072804   \n",
              "sulphates                   0.017475   0.374784             0.034445   \n",
              "alcohol                     0.058421  -0.229917            -0.047095   \n",
              "quality                     0.022002  -0.124085            -0.063260   \n",
              "Id                         -0.046344  -0.088099             0.095268   \n",
              "\n",
              "                      total sulfur dioxide   density        pH  sulphates  \\\n",
              "fixed acidity                    -0.110628  0.681501 -0.685163   0.174592   \n",
              "volatile acidity                  0.077748  0.016512  0.221492  -0.276079   \n",
              "citric acid                       0.036871  0.375243 -0.546339   0.331232   \n",
              "residual sugar                    0.190790  0.380147 -0.116959   0.017475   \n",
              "chlorides                         0.048163  0.208901 -0.277759   0.374784   \n",
              "free sulfur dioxide               0.661093 -0.054150  0.072804   0.034445   \n",
              "total sulfur dioxide              1.000000  0.050175 -0.059126   0.026894   \n",
              "density                           0.050175  1.000000 -0.352775   0.143139   \n",
              "pH                               -0.059126 -0.352775  1.000000  -0.185499   \n",
              "sulphates                         0.026894  0.143139 -0.185499   1.000000   \n",
              "alcohol                          -0.188165 -0.494727  0.225322   0.094421   \n",
              "quality                          -0.183339 -0.175208 -0.052453   0.257710   \n",
              "Id                               -0.107389 -0.363926  0.132904  -0.103954   \n",
              "\n",
              "                       alcohol   quality        Id  \n",
              "fixed acidity        -0.075055  0.121970 -0.275826  \n",
              "volatile acidity     -0.203909 -0.407394 -0.007892  \n",
              "citric acid           0.106250  0.240821 -0.139011  \n",
              "residual sugar        0.058421  0.022002 -0.046344  \n",
              "chlorides            -0.229917 -0.124085 -0.088099  \n",
              "free sulfur dioxide  -0.047095 -0.063260  0.095268  \n",
              "total sulfur dioxide -0.188165 -0.183339 -0.107389  \n",
              "density              -0.494727 -0.175208 -0.363926  \n",
              "pH                    0.225322 -0.052453  0.132904  \n",
              "sulphates             0.094421  0.257710 -0.103954  \n",
              "alcohol               1.000000  0.484866  0.238087  \n",
              "quality               0.484866  1.000000  0.069708  \n",
              "Id                    0.238087  0.069708  1.000000  "
            ]
          },
          "execution_count": 38,
          "metadata": {},
          "output_type": "execute_result"
        }
      ],
      "source": [
        "df.corr()"
      ]
    },
    {
      "cell_type": "code",
      "execution_count": 39,
      "id": "bbf931d7",
      "metadata": {},
      "outputs": [
        {
          "name": "stdout",
          "output_type": "stream",
          "text": [
            "\n",
            "Quality Counts:\n",
            "Quality 3: 6 wines (0.52%)\n",
            "Quality 4: 33 wines (2.89%)\n",
            "Quality 5: 483 wines (42.26%)\n",
            "Quality 6: 462 wines (40.42%)\n",
            "Quality 7: 143 wines (12.51%)\n",
            "Quality 8: 16 wines (1.40%)\n"
          ]
        }
      ],
      "source": [
        "quality_counts = df['quality'].value_counts().sort_index()\n",
        "quality_percentage = df['quality'].value_counts(normalize=True).sort_index() * 100\n",
        "\n",
        "print(\"\\nQuality Counts:\")\n",
        "for quality, count in quality_counts.items():\n",
        "    print(f\"Quality {quality}: {count} wines ({quality_percentage[quality]:.2f}%)\")"
      ]
    },
    {
      "cell_type": "code",
      "execution_count": 40,
      "id": "a4226eb8",
      "metadata": {},
      "outputs": [
        {
          "data": {
            "image/png": "[encoded data removed]",
            "text/plain": [
              "<Figure size 1000x800 with 1 Axes>"
            ]
          },
          "metadata": {},
          "output_type": "display_data"
        }
      ],
      "source": [
        "quality_counts = df['quality'].value_counts().sort_index()\n",
        "quality_percentage = df['quality'].value_counts(normalize=True).sort_index() * 100\n",
        "\n",
        "# Combine categories with <2% into 'Other'\n",
        "threshold = 2.0\n",
        "large_labels = quality_percentage[quality_percentage >= threshold].index\n",
        "small_labels = quality_percentage[quality_percentage < threshold].index\n",
        "\n",
        "\n",
        "combined_counts = quality_counts[large_labels].copy()\n",
        "combined_counts['Other'] = quality_counts[small_labels].sum()\n",
        "\n",
        "\n",
        "combined_percentages = combined_counts / combined_counts.sum() * 100\n",
        "\n",
        "\n",
        "plt.figure(figsize=(10, 8))\n",
        "plt.pie(combined_counts, labels=combined_counts.index, autopct='%1.1f%%', startangle=90)\n",
        "plt.title('Wine Quality Distribution', fontsize=16)\n",
        "plt.axis('equal')\n",
        "plt.show()"
      ]
    },
    {
      "cell_type": "code",
      "execution_count": 41,
      "id": "b26b9799",
      "metadata": {},
      "outputs": [
        {
          "name": "stdout",
          "output_type": "stream",
          "text": [
            "\n",
            "Number of duplicate rows: 0\n"
          ]
        }
      ],
      "source": [
        "duplicates = df.duplicated().sum()\n",
        "print(f\"\\nNumber of duplicate rows: {duplicates}\")"
      ]
    },
    {
      "cell_type": "code",
      "execution_count": 42,
      "id": "6c293a22",
      "metadata": {},
      "outputs": [],
      "source": [
        "df.drop_duplicates(inplace=True)"
      ]
    },
    {
      "cell_type": "code",
      "execution_count": 43,
      "id": "f222e75d",
      "metadata": {},
      "outputs": [
        {
          "data": {
            "text/plain": [
              "(1143, 13)"
            ]
          },
          "execution_count": 43,
          "metadata": {},
          "output_type": "execute_result"
        }
      ],
      "source": [
        "df.shape"
      ]
    },
    {
      "cell_type": "code",
      "execution_count": 44,
      "id": "9fdcd0b9",
      "metadata": {},
      "outputs": [
        {
          "data": {
            "image/png": "[encoded data removed]",
            "text/plain": [
              "<Figure size 1400x1000 with 2 Axes>"
            ]
          },
          "metadata": {},
          "output_type": "display_data"
        }
      ],
      "source": [
        "plt.figure(figsize=(14, 10))\n",
        "correlation_matrix = df.corr()\n",
        "mask = np.triu(correlation_matrix)\n",
        "sns.heatmap(correlation_matrix, annot=True, cmap='coolwarm', fmt='.2f', mask=mask)\n",
        "plt.title('Feature Correlation Heatmap', fontsize=16)\n",
        "plt.xticks(rotation=45, ha='right')\n",
        "plt.tight_layout()"
      ]
    },
    {
      "cell_type": "code",
      "execution_count": 45,
      "id": "a5a0b8c1",
      "metadata": {},
      "outputs": [
        {
          "name": "stdout",
          "output_type": "stream",
          "text": [
            "Original quality distribution:\n",
            "quality\n",
            "3      6\n",
            "4     33\n",
            "5    483\n",
            "6    462\n",
            "7    143\n",
            "8     16\n",
            "Name: count, dtype: int64\n"
          ]
        }
      ],
      "source": [
        "quality_counts = df['quality'].value_counts().sort_index()\n",
        "print(\"Original quality distribution:\")\n",
        "print(quality_counts)"
      ]
    },
    {
      "cell_type": "code",
      "execution_count": 46,
      "id": "7e62a134",
      "metadata": {},
      "outputs": [],
      "source": [
        "df['quality_binary'] = (df['quality'] >= 6).astype(int)"
      ]
    },
    {
      "cell_type": "code",
      "execution_count": 47,
      "id": "4580e4a2",
      "metadata": {},
      "outputs": [
        {
          "name": "stdout",
          "output_type": "stream",
          "text": [
            "\n",
            "Binary Quality Distribution:\n",
            "quality_binary\n",
            "1    621\n",
            "0    522\n",
            "Name: count, dtype: int64\n",
            "Good wines (1): 621\n",
            "Bad wines (0): 522\n"
          ]
        }
      ],
      "source": [
        "print(\"\\nBinary Quality Distribution:\")\n",
        "print(df['quality_binary'].value_counts())\n",
        "print(f\"Good wines (1): {df['quality_binary'].sum()}\")\n",
        "print(f\"Bad wines (0): {len(df) - df['quality_binary'].sum()}\")"
      ]
    },
    {
      "cell_type": "code",
      "execution_count": 48,
      "id": "9ed45755",
      "metadata": {},
      "outputs": [],
      "source": [
        "def remove_outliers(df, columns):\n",
        "    df_clean = df.copy()\n",
        "    for col in columns:\n",
        "        Q1 = df_clean[col].quantile(0.25)\n",
        "        Q3 = df_clean[col].quantile(0.75)\n",
        "        IQR = Q3 - Q1\n",
        "        lower_bound = Q1 - 1.5 * IQR\n",
        "        upper_bound = Q3 + 1.5 * IQR\n",
        "        df_clean = df_clean[(df_clean[col] >= lower_bound) & (df_clean[col] <= upper_bound)]\n",
        "    \n",
        "    print(f\"Shape before outlier removal: {df.shape}\")\n",
        "    print(f\"Shape after outlier removal: {df_clean.shape}\")\n",
        "    return df_clean"
      ]
    },
    {
      "cell_type": "code",
      "execution_count": 49,
      "id": "0dae1fc1",
      "metadata": {},
      "outputs": [
        {
          "name": "stdout",
          "output_type": "stream",
          "text": [
            "Shape before outlier removal: (1143, 14)\n",
            "Shape after outlier removal: (797, 14)\n"
          ]
        }
      ],
      "source": [
        "numeric_cols = df.select_dtypes(include=[np.number]).columns.tolist()\n",
        "numeric_cols = [col for col in numeric_cols if col not in ['quality', 'quality_binary']]\n",
        "df_clean = remove_outliers(df, numeric_cols)"
      ]
    },
    {
      "cell_type": "code",
      "execution_count": 50,
      "id": "33cc86ea",
      "metadata": {},
      "outputs": [],
      "source": [
        "df_clean = df_clean.drop('Id', axis=1)"
      ]
    },
    {
      "cell_type": "code",
      "execution_count": 51,
      "id": "77d894ce",
      "metadata": {},
      "outputs": [],
      "source": [
        "df_clean['alcohol_to_acidity_ratio'] = df_clean['alcohol'] / (df_clean['fixed acidity'] + df_clean['volatile acidity'] + 0.01)\n",
        "df_clean['sugar_to_acidity_ratio'] = df_clean['residual sugar'] / (df_clean['fixed acidity'] + df_clean['volatile acidity'] + 0.01)\n",
        "df_clean['total_acidity'] = df_clean['fixed acidity'] + df_clean['volatile acidity']\n",
        "df_clean['total_SO2'] = df_clean['free sulfur dioxide'] + df_clean['total sulfur dioxide']\n"
      ]
    },
    {
      "cell_type": "code",
      "execution_count": 52,
      "id": "b4f193da",
      "metadata": {},
      "outputs": [],
      "source": [
        "X_clean = df_clean.drop(['quality', 'quality_binary'], axis=1)\n",
        "y_clean = df_clean['quality_binary']"
      ]
    },
    {
      "cell_type": "code",
      "execution_count": 53,
      "id": "2746d32d",
      "metadata": {},
      "outputs": [],
      "source": [
        "X_train, X_test, y_train, y_test = train_test_split(\n",
        "    X_clean, y_clean, test_size=0.2, random_state=42, stratify=y_clean\n",
        ")"
      ]
    },
    {
      "cell_type": "code",
      "execution_count": 54,
      "id": "08687bba",
      "metadata": {},
      "outputs": [
        {
          "data": {
            "text/plain": [
              "(Index(['fixed acidity', 'volatile acidity', 'citric acid', 'residual sugar',\n",
              "        'chlorides', 'free sulfur dioxide', 'total sulfur dioxide', 'density',\n",
              "        'pH', 'sulphates', 'alcohol', 'alcohol_to_acidity_ratio',\n",
              "        'sugar_to_acidity_ratio', 'total_acidity', 'total_SO2'],\n",
              "       dtype='object'),\n",
              " Index(['fixed acidity', 'volatile acidity', 'citric acid', 'residual sugar',\n",
              "        'chlorides', 'free sulfur dioxide', 'total sulfur dioxide', 'density',\n",
              "        'pH', 'sulphates', 'alcohol', 'alcohol_to_acidity_ratio',\n",
              "        'sugar_to_acidity_ratio', 'total_acidity', 'total_SO2'],\n",
              "       dtype='object'))"
            ]
          },
          "execution_count": 54,
          "metadata": {},
          "output_type": "execute_result"
        }
      ],
      "source": [
        "X_train.columns, X_test.columns"
      ]
    },
    {
      "cell_type": "code",
      "execution_count": 55,
      "id": "2877bb0a",
      "metadata": {},
      "outputs": [],
      "source": [
        "scaler = StandardScaler()\n",
        "X_train_scaled = scaler.fit_transform(X_train)\n",
        "X_test_scaled = scaler.transform(X_test)"
      ]
    },
    {
      "cell_type": "code",
      "execution_count": 56,
      "id": "45a5c704",
      "metadata": {},
      "outputs": [],
      "source": [
        "models = {\n",
        "    'Random Forest': RandomForestClassifier(n_estimators=100, random_state=42),\n",
        "    'Gradient Boosting': GradientBoostingClassifier(random_state=42),\n",
        "    'Logistic Regression': LogisticRegression(max_iter=1000, random_state=42)\n",
        "}"
      ]
    },
    {
      "cell_type": "code",
      "execution_count": 57,
      "id": "0f20cfc2",
      "metadata": {},
      "outputs": [
        {
          "name": "stdout",
          "output_type": "stream",
          "text": [
            "Cross-validation scores:\n",
            "Random Forest: 0.7739 \u00b1 0.0181\n",
            "Gradient Boosting: 0.7347 \u00b1 0.0218\n",
            "Logistic Regression: 0.7269 \u00b1 0.0405\n"
          ]
        }
      ],
      "source": [
        "print(\"Cross-validation scores:\")\n",
        "for model_name, model in models.items():\n",
        "    scores = cross_val_score(model, X_train_scaled, y_train, cv=5, scoring='accuracy')\n",
        "    print(f\"{model_name}: {scores.mean():.4f} \u00b1 {scores.std():.4f}\")"
      ]
    },
    {
      "cell_type": "code",
      "execution_count": 58,
      "id": "46179066",
      "metadata": {},
      "outputs": [
        {
          "name": "stdout",
          "output_type": "stream",
          "text": [
            "\n",
            "Best parameters found: {'max_depth': None, 'min_samples_split': 2, 'n_estimators': 100}\n",
            "Best cross-validation score: 0.7739\n"
          ]
        }
      ],
      "source": [
        "param_grid = {\n",
        "    'n_estimators': [100, 200, 300],\n",
        "    'max_depth': [None, 10, 20, 30],\n",
        "    'min_samples_split': [2, 5, 10]\n",
        "}\n",
        "\n",
        "# Perform grid search\n",
        "grid_search = GridSearchCV(\n",
        "    RandomForestClassifier(n_estimators=100, random_state=42),\n",
        "    param_grid,\n",
        "    cv=5,\n",
        "    scoring='accuracy',\n",
        "    n_jobs=-1\n",
        ")\n",
        "\n",
        "grid_search.fit(X_train_scaled, y_train)\n",
        "\n",
        "# Get best parameters and model\n",
        "best_params = grid_search.best_params_\n",
        "best_model = grid_search.best_estimator_\n",
        "\n",
        "print(f\"\\nBest parameters found: {best_params}\")\n",
        "print(f\"Best cross-validation score: {grid_search.best_score_:.4f}\")"
      ]
    },
    {
      "cell_type": "code",
      "execution_count": null,
      "id": "00f11516",
      "metadata": {},
      "outputs": [
        {
          "name": "stdout",
          "output_type": "stream",
          "text": [
            "\n",
            "Tuned Model Accuracy: 0.7625\n"
          ]
        }
      ],
      "source": [
        "\n",
        "y_pred = best_model.predict(X_test_scaled)\n",
        "accuracy = accuracy_score(y_test, y_pred)\n",
        "print(f\"\\nTuned Model Accuracy: {accuracy:.4f}\")"
      ]
    },
    {
      "cell_type": "code",
      "execution_count": 60,
      "id": "9aa4f151",
      "metadata": {},
      "outputs": [
        {
          "name": "stdout",
          "output_type": "stream",
          "text": [
            "\n",
            "Classification Report:\n",
            "              precision    recall  f1-score   support\n",
            "\n",
            "           0       0.75      0.73      0.74        73\n",
            "           1       0.78      0.79      0.78        87\n",
            "\n",
            "    accuracy                           0.76       160\n",
            "   macro avg       0.76      0.76      0.76       160\n",
            "weighted avg       0.76      0.76      0.76       160\n",
            "\n"
          ]
        }
      ],
      "source": [
        "print(\"\\nClassification Report:\")\n",
        "print(classification_report(y_test, y_pred))"
      ]
    },
    {
      "cell_type": "code",
      "execution_count": 63,
      "id": "be6222b7",
      "metadata": {},
      "outputs": [
        {
          "name": "stdout",
          "output_type": "stream",
          "text": [
            "Saving model to: models\\wine_predictor.joblib\n",
            "Model saved successfully.\n"
          ]
        }
      ],
      "source": [
        "import joblib\n",
        "\n",
        "MODEL_DIR = Path(\"models/\")\n",
        "MODEL_DIR.mkdir(parents=True, exist_ok=True)\n",
        "\n",
        "MODEL_PATH = MODEL_DIR / \"wine_predictor.joblib\"\n",
        "\n",
        "\n",
        "print(f\"Saving model to: {MODEL_PATH}\")\n",
        "joblib.dump(best_model, MODEL_PATH)\n",
        "print(\"Model saved successfully.\")"
      ]
    },
    {
      "cell_type": "code",
      "execution_count": 64,
      "id": "cdf08ccf",
      "metadata": {},
      "outputs": [
        {
          "data": {
            "text/plain": [
              "array([1])"
            ]
          },
          "execution_count": 64,
          "metadata": {},
          "output_type": "execute_result"
        }
      ],
      "source": [
        "best_model.predict([[7.4, 0.7, 0.0, 1.9, 0.076,  11.0, 34.0, 0.9978, 3.51, 0.56, 9.4, 1.16, 0.23, 8.1, 45 ]])"
      ]
    },
    {
      "cell_type": "code",
      "execution_count": null,
      "id": "6056ad91",
      "metadata": {},
      "outputs": [],
      "source": []
    }
  ],
  "metadata": {
    "kernelspec": {
      "display_name": "venv",
      "language": "python",
      "name": "python3"
    },
    "language_info": {
      "codemirror_mode": {
        "name": "ipython",
        "version": 3
      },
      "file_extension": ".py",
      "mimetype": "text/x-python",
      "name": "python",
      "nbconvert_exporter": "python",
      "pygments_lexer": "ipython3",
      "version": "3.13.3"
    }
  },
  "nbformat": 4,
  "nbformat_minor": 5
}
